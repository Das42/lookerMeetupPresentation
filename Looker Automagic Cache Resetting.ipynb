{
 "cells": [
  {
   "cell_type": "markdown",
   "metadata": {},
   "source": [
    "## Option 1: Auto-refresh cache for a set of Looks\n",
    "First, some boring setup stuff. We import the API and create a connection client."
   ]
  },
  {
   "cell_type": "code",
   "execution_count": null,
   "metadata": {},
   "outputs": [
    {
     "name": "stderr",
     "output_type": "stream",
     "text": [
      "2017-05-02 19:12:54,553 WARNING Retrying (Retry(total=2, connect=None, read=None, redirect=None, status=None)) after connection broken by 'NewConnectionError('<urllib3.connection.VerifiedHTTPSConnection object at 0x1109a1f98>: Failed to establish a new connection: [Errno 60] Operation timed out',)': /api/3.0/login?client_id=z4NM6BcrDZpCqrkcwdjg&client_secret=mnJxk59SKsZW5fdHnbDGpgVY\n"
     ]
    }
   ],
   "source": [
    "import lookCache\n",
    "import swagger_client as looker\n",
    "client = lookCache.apiConnect('config.yml')"
   ]
  },
  {
   "cell_type": "markdown",
   "metadata": {},
   "source": [
    "This next bit creates the looker objects we'll use to do all the neat stuff."
   ]
  },
  {
   "cell_type": "code",
   "execution_count": null,
   "metadata": {
    "collapsed": true
   },
   "outputs": [],
   "source": [
    "look = looker.LookApi(client)\n",
    "space = looker.SpaceApi(client)"
   ]
  },
  {
   "cell_type": "markdown",
   "metadata": {},
   "source": [
    "Now we generate a list of all spaces. We can use a list comprehension to easily filter to what we want, in this case all public spaces. Note we have to cast the results to integers."
   ]
  },
  {
   "cell_type": "code",
   "execution_count": null,
   "metadata": {
    "collapsed": true
   },
   "outputs": [],
   "source": [
    "allSpace = space.all_spaces()\n",
    "targetSpaces = [int(i.id) for i in allSpace if i.id != 'lookml' and i.is_personal == False]"
   ]
  },
  {
   "cell_type": "code",
   "execution_count": null,
   "metadata": {
    "collapsed": true
   },
   "outputs": [],
   "source": [
    "print(targetSpaces)"
   ]
  },
  {
   "cell_type": "markdown",
   "metadata": {},
   "source": [
    "Now we can loop through this list of spaces, extract all the looks contained therein..."
   ]
  },
  {
   "cell_type": "code",
   "execution_count": null,
   "metadata": {
    "collapsed": true
   },
   "outputs": [],
   "source": [
    "targetLooks = []\n",
    "for s in targetSpaces:\n",
    "    spaceLook = space.space_looks(s)\n",
    "    spaceLookId = [i.id for i in spaceLook]\n",
    "    targetLooks.append(spaceLookId)\n"
   ]
  },
  {
   "cell_type": "markdown",
   "metadata": {},
   "source": [
    "...and flatten it into a single list. If this gets really large you may want to yield a generator instead of a list."
   ]
  },
  {
   "cell_type": "code",
   "execution_count": null,
   "metadata": {
    "collapsed": true
   },
   "outputs": [],
   "source": [
    "flattened = [item for sublist in targetLooks for item in sublist]\n",
    "print(flattened)"
   ]
  },
  {
   "cell_type": "markdown",
   "metadata": {},
   "source": [
    "Now we could loop through this list of looks and run each one with cache set to False. In the interest of time we'll only do one..."
   ]
  },
  {
   "cell_type": "code",
   "execution_count": null,
   "metadata": {
    "collapsed": true
   },
   "outputs": [],
   "source": [
    "look.run_look(look_id = 173, result_format='json', cache = False)"
   ]
  },
  {
   "cell_type": "markdown",
   "metadata": {},
   "source": [
    "## Option 2: Utilize dashboard pre-fetching\n",
    "We can also utilize Looker's dashboard prefetch ability. If you have a heavily used dashboard with a set number of common combinations of filters this can be a solid option. But it does require some setup. First, we need to create a dashboard object."
   ]
  },
  {
   "cell_type": "code",
   "execution_count": null,
   "metadata": {
    "collapsed": true
   },
   "outputs": [],
   "source": [
    "dash = looker.DashboardApi(client)"
   ]
  },
  {
   "cell_type": "markdown",
   "metadata": {},
   "source": [
    "By default, dashboards are not setup for prefetching. We need to update our dashboard's configuration"
   ]
  },
  {
   "cell_type": "code",
   "execution_count": null,
   "metadata": {
    "collapsed": true,
    "scrolled": true
   },
   "outputs": [],
   "source": [
    "dash.update_dashboard(dashboard_id=9, body={\"load_configuration\":\"prefetch_cache_run\"})"
   ]
  },
  {
   "cell_type": "markdown",
   "metadata": {},
   "source": [
    "Now we can create a couple of prefetches. After we run this we'll switch over to the dashboard to see it in action"
   ]
  },
  {
   "cell_type": "code",
   "execution_count": null,
   "metadata": {
    "collapsed": true
   },
   "outputs": [],
   "source": [
    "dash.create_dashboard_prefetch(dashboard_id=9, \n",
    "                               body={\"ttl\": 600,\n",
    "                                     \"dashboard_filters\": [\n",
    "                                        {\n",
    "                                        \"name\": \"Date\",\n",
    "                                        \"value\":\"3 months ago for 3 months\",\n",
    "                                        \"can\": {}\n",
    "                                        }\n",
    "                                     ]\n",
    "                                    }\n",
    "                              )\n",
    "\n",
    "dash.create_dashboard_prefetch(dashboard_id=9, \n",
    "                               body={\"ttl\": 600,\n",
    "                                     \"dashboard_filters\": [\n",
    "                                        {\n",
    "                                        \"name\": \"Date\",\n",
    "                                        \"value\":\"5 months ago for 5 months\",\n",
    "                                        \"can\": {}\n",
    "                                        }\n",
    "                                     ]\n",
    "                                    }\n",
    "                              )"
   ]
  },
  {
   "cell_type": "markdown",
   "metadata": {},
   "source": [
    "Let's check on the status of our '3 month' prefetch. Note the 'hit-count' metric... we'll come back to this in a moment."
   ]
  },
  {
   "cell_type": "code",
   "execution_count": null,
   "metadata": {
    "collapsed": true
   },
   "outputs": [],
   "source": [
    "dash.dashboard_prefetch(dashboard_id = 9, \n",
    "                        dashboard_filters = '[{ \"name\": \"Date\", \"value\":\"3 months ago for 3 months\", \"can\": {} }]'\n",
    "                       )"
   ]
  },
  {
   "cell_type": "markdown",
   "metadata": {},
   "source": [
    "Hope that inspires some hacking. Have fun!"
   ]
  }
 ],
 "metadata": {
  "kernelspec": {
   "display_name": "Python 3",
   "language": "python",
   "name": "python3"
  },
  "language_info": {
   "codemirror_mode": {
    "name": "ipython",
    "version": 3
   },
   "file_extension": ".py",
   "mimetype": "text/x-python",
   "name": "python",
   "nbconvert_exporter": "python",
   "pygments_lexer": "ipython3",
   "version": "3.6.1"
  }
 },
 "nbformat": 4,
 "nbformat_minor": 2
}
